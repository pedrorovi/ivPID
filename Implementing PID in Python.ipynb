{
 "cells": [
  {
   "cell_type": "code",
   "execution_count": 1,
   "metadata": {
    "collapsed": true
   },
   "outputs": [],
   "source": [
    "import PID\n",
    "import time\n",
    "import matplotlib.pyplot as plt\n",
    "import numpy as np\n",
    "from scipy.interpolate import make_interp_spline\n",
    "%matplotlib inline"
   ]
  },
  {
   "cell_type": "markdown",
   "metadata": {},
   "source": [
    "## define PID weights\n",
    "\n",
    "PID controller minimizes error by adjusting a control variable (eg power supplied) to a new value determined by a weighted sum of present (P), past (I), and future (D) error values."
   ]
  },
  {
   "cell_type": "code",
   "execution_count": 2,
   "metadata": {
    "collapsed": true
   },
   "outputs": [],
   "source": [
    "P = 1.2 # weight current errors more\n",
    "I = 1\n",
    "D = 0.0 # ignore future potential errors "
   ]
  },
  {
   "cell_type": "code",
   "execution_count": 3,
   "metadata": {
    "collapsed": true
   },
   "outputs": [],
   "source": [
    "L = 50 # number of iterations"
   ]
  },
  {
   "cell_type": "code",
   "execution_count": 9,
   "metadata": {
    "collapsed": false
   },
   "outputs": [],
   "source": [
    "pid = PID.PID(P, I, D)\n",
    "\n",
    "pid.SetPoint=0.0\n",
    "pid.setSampleTime(0.01)\n",
    "\n",
    "END = L\n",
    "feedback = 0\n",
    "\n",
    "feedback_list = []\n",
    "time_list = []\n",
    "setpoint_list = []\n",
    "\n",
    "for i in range(1, END):\n",
    "    pid.update(feedback)\n",
    "    output = pid.output\n",
    "    if pid.SetPoint > 0:\n",
    "        feedback += (output - (1/i))\n",
    "    if i>9:\n",
    "        pid.SetPoint = 1\n",
    "    time.sleep(0.02)\n",
    "\n",
    "    feedback_list.append(feedback)\n",
    "    setpoint_list.append(pid.SetPoint)\n",
    "    time_list.append(i)\n",
    "\n",
    "time_sm = np.array(time_list)\n",
    "time_smooth = np.linspace(time_sm.min(), time_sm.max(), 300)\n",
    "feedback_smooth = make_interp_spline(time_list, feedback_list)(time_smooth)\n",
    "\n"
   ]
  },
  {
   "cell_type": "markdown",
   "metadata": {},
   "source": [
    "## how quickly does it converge?\n",
    "\n",
    "green is desired value; blue is actual"
   ]
  },
  {
   "cell_type": "code",
   "execution_count": 10,
   "metadata": {
    "collapsed": false
   },
   "outputs": [
    {
     "data": {
      "text/plain": [
       "(0.5, 1.5)"
      ]
     },
     "execution_count": 10,
     "metadata": {},
     "output_type": "execute_result"
    },
    {
     "data": {
      "image/png": "[encoded data removed]",
      "text/plain": [
       "<Figure size 640x480 with 1 Axes>"
      ]
     },
     "metadata": {},
     "output_type": "display_data"
    }
   ],
   "source": [
    "plt.plot(time_smooth, feedback_smooth)\n",
    "plt.plot(time_list, setpoint_list)\n",
    "plt.xlim((0, L))\n",
    "plt.ylim((min(feedback_list)-0.5, max(feedback_list)+0.5))\n",
    "plt.xlabel('time (s)')\n",
    "plt.ylabel('PID (PV)')\n",
    "plt.title('TEST PID')\n",
    "\n",
    "plt.ylim((1-0.5, 1+0.5))"
   ]
  },
  {
   "cell_type": "code",
   "execution_count": null,
   "metadata": {
    "collapsed": true
   },
   "outputs": [],
   "source": []
  }
 ],
 "metadata": {
  "kernelspec": {
   "display_name": "Python 3.10.6 64-bit",
   "language": "python",
   "name": "python3"
  },
  "language_info": {
   "codemirror_mode": {
    "name": "ipython",
    "version": 3
   },
   "file_extension": ".py",
   "mimetype": "text/x-python",
   "name": "python",
   "nbconvert_exporter": "python",
   "pygments_lexer": "ipython3",
   "version": "3.10.6"
  },
  "vscode": {
   "interpreter": {
    "hash": "31f2aee4e71d21fbe5cf8b01ff0e069b9275f58929596ceb00d14d90e3e16cd6"
   }
  }
 },
 "nbformat": 4,
 "nbformat_minor": 0
}
